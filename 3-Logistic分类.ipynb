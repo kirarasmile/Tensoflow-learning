{
  "nbformat": 4,
  "nbformat_minor": 0,
  "metadata": {
    "colab": {
      "name": "Logistic多分类.ipynb",
      "provenance": [],
      "collapsed_sections": []
    },
    "kernelspec": {
      "name": "python3",
      "display_name": "Python 3"
    }
  },
  "cells": [
    {
      "cell_type": "markdown",
      "metadata": {
        "id": "v9ZNlGSpGvno",
        "colab_type": "text"
      },
      "source": [
        "导入需要的module"
      ]
    },
    {
      "cell_type": "code",
      "metadata": {
        "id": "bN6lK99BHrVh",
        "colab_type": "code",
        "colab": {}
      },
      "source": [
        "%tensorflow_version 2.x\n",
        "\n",
        "import tensorflow as tf\n",
        "from tensorflow.keras.datasets import mnist\n",
        "\n",
        "import numpy as np\n",
        "import matplotlib.pyplot as plt\n",
        "%matplotlib inline"
      ],
      "execution_count": null,
      "outputs": []
    },
    {
      "cell_type": "markdown",
      "metadata": {
        "id": "dEdF_zL9GytE",
        "colab_type": "text"
      },
      "source": [
        "准备mnist手写数字数据集"
      ]
    },
    {
      "cell_type": "code",
      "metadata": {
        "id": "1NNwoy_tHsFD",
        "colab_type": "code",
        "colab": {
          "base_uri": "https://localhost:8080/",
          "height": 53
        },
        "outputId": "76dbc7b2-f28d-4086-a768-468e162b5486"
      },
      "source": [
        "(train_x0,train_y0),(test_x0,test_y0)=mnist.load_data()"
      ],
      "execution_count": null,
      "outputs": [
        {
          "output_type": "stream",
          "text": [
            "Downloading data from https://storage.googleapis.com/tensorflow/tf-keras-datasets/mnist.npz\n",
            "11493376/11490434 [==============================] - 0s 0us/step\n"
          ],
          "name": "stdout"
        }
      ]
    },
    {
      "cell_type": "markdown",
      "metadata": {
        "id": "AxELEP_1G5Yz",
        "colab_type": "text"
      },
      "source": [
        "查看数据尺寸和类型"
      ]
    },
    {
      "cell_type": "code",
      "metadata": {
        "id": "PcTdPAukHtRj",
        "colab_type": "code",
        "colab": {
          "base_uri": "https://localhost:8080/",
          "height": 53
        },
        "outputId": "30eab865-4d6f-4db3-a93d-42288e112e27"
      },
      "source": [
        "print(train_x0.shape,train_y0.shape)\n",
        "print(train_x0.dtype,train_y0.dtype)"
      ],
      "execution_count": null,
      "outputs": [
        {
          "output_type": "stream",
          "text": [
            "(60000, 28, 28) (60000,)\n",
            "uint8 uint8\n"
          ],
          "name": "stdout"
        }
      ]
    },
    {
      "cell_type": "markdown",
      "metadata": {
        "id": "MDNlBS_NG9lG",
        "colab_type": "text"
      },
      "source": [
        "转换数据格式"
      ]
    },
    {
      "cell_type": "code",
      "metadata": {
        "id": "fMotbpeAHuQ0",
        "colab_type": "code",
        "colab": {}
      },
      "source": [
        "\n",
        "#转换数据格式,flatten数据并转成float型\n",
        "train_x=tf.reshape(tf.cast(train_x0,tf.float32)/255.0,(-1,784)) \n",
        "#标签转为one-hot\n",
        "train_label=tf.cast(tf.one_hot(train_y0,depth=10),tf.float32)\n",
        "\n",
        "test_x=tf.reshape(tf.cast(test_x0,tf.float32)/255.0,(-1,784))\n",
        "#标签转为one-hot\n",
        "test_label=tf.cast(tf.one_hot(test_y0,depth=10),tf.float32)\n"
      ],
      "execution_count": null,
      "outputs": []
    },
    {
      "cell_type": "markdown",
      "metadata": {
        "id": "z3ATFF2hHEjJ",
        "colab_type": "text"
      },
      "source": [
        "查看转换后的数据格式"
      ]
    },
    {
      "cell_type": "code",
      "metadata": {
        "id": "0p2fU6D_Hu-U",
        "colab_type": "code",
        "colab": {
          "base_uri": "https://localhost:8080/",
          "height": 35
        },
        "outputId": "b96a7cd6-ec43-4cd2-8da8-02b812abd258"
      },
      "source": [
        "train_x.shape,train_x.dtype,train_label.shape,train_label.dtype"
      ],
      "execution_count": null,
      "outputs": [
        {
          "output_type": "execute_result",
          "data": {
            "text/plain": [
              "(TensorShape([60000, 784]), tf.float32, TensorShape([60000, 10]), tf.float32)"
            ]
          },
          "metadata": {
            "tags": []
          },
          "execution_count": 7
        }
      ]
    },
    {
      "cell_type": "markdown",
      "metadata": {
        "id": "vwhxjoF2HIqr",
        "colab_type": "text"
      },
      "source": [
        "显示数字图片"
      ]
    },
    {
      "cell_type": "code",
      "metadata": {
        "id": "Gqie87QlHv8D",
        "colab_type": "code",
        "colab": {
          "base_uri": "https://localhost:8080/",
          "height": 79
        },
        "outputId": "0b36ede8-ed12-42c3-9463-a0f4f17ceabd"
      },
      "source": [
        "for i in range(10):\n",
        "  plt.subplot(1,10,i+1)\n",
        "  plt.title(train_y0[i])\n",
        "  plt.imshow(train_x0[i])\n",
        "  plt.xticks([])\n",
        "  plt.yticks([])"
      ],
      "execution_count": null,
      "outputs": [
        {
          "output_type": "display_data",
          "data": {
            "image/png": "[encoded data removed]",
            "text/plain": [
              "<Figure size 432x288 with 10 Axes>"
            ]
          },
          "metadata": {
            "tags": []
          }
        }
      ]
    },
    {
      "cell_type": "markdown",
      "metadata": {
        "id": "S_PQ8lLAHN0k",
        "colab_type": "text"
      },
      "source": [
        "分类器模型"
      ]
    },
    {
      "cell_type": "code",
      "metadata": {
        "id": "YOe3cyIMHwmT",
        "colab_type": "code",
        "colab": {}
      },
      "source": [
        "#w0:shape(784,10),b0:shape(10,)\n",
        "def model_linear(x):\n",
        "  #自行补充线性拟合 x@w+b\n",
        "  out=tf.add(tf.matmul(x,w0),b0)\n",
        "  return tf.nn.softmax(out)\n"
      ],
      "execution_count": null,
      "outputs": []
    },
    {
      "cell_type": "markdown",
      "metadata": {
        "id": "yKclnVcQHRRD",
        "colab_type": "text"
      },
      "source": [
        "定义损失函数"
      ]
    },
    {
      "cell_type": "code",
      "metadata": {
        "id": "Fczr5CphHxfi",
        "colab_type": "code",
        "colab": {}
      },
      "source": [
        "#y:观察值  y_hat:模型值\n",
        "def loss_fun(y,y_hat):\n",
        "  return tf.reduce_mean(tf.square(y-y_hat))  #自己补充交叉熵"
      ],
      "execution_count": null,
      "outputs": []
    },
    {
      "cell_type": "markdown",
      "metadata": {
        "id": "SGjxd69_HV0K",
        "colab_type": "text"
      },
      "source": [
        "预测精确度函数"
      ]
    },
    {
      "cell_type": "code",
      "metadata": {
        "id": "jgZbR-gZHyG8",
        "colab_type": "code",
        "colab": {}
      },
      "source": [
        "def accuracy_linear(X,label):\n",
        "  label_pred=model_linear(X)\n",
        "  return tf.reduce_mean(tf.cast(tf.equal(tf.argmax(label_pred,axis=1),tf.argmax(label,axis=1)),tf.float32))\n"
      ],
      "execution_count": null,
      "outputs": []
    },
    {
      "cell_type": "markdown",
      "metadata": {
        "id": "3X01WUV7Hb9r",
        "colab_type": "text"
      },
      "source": [
        "定义训练函数"
      ]
    },
    {
      "cell_type": "code",
      "metadata": {
        "id": "KF1G_HyDHy5x",
        "colab_type": "code",
        "colab": {}
      },
      "source": [
        "def train_linear(w0,b0):\n",
        "  epochs=500 #回合数\n",
        "  \n",
        "  for epoch in range(epochs):\n",
        "    l_r=0.3-(0.3-0.01)/epochs*epoch  #学习率\n",
        "\n",
        "    mnist_batch=tf.data.Dataset.from_tensor_slices((train_x,train_label)).shuffle(train_x.shape[0]).batch(300)\n",
        "    loss_sum,n=0,0\n",
        "\n",
        "    for x_train,y_train in mnist_batch:\n",
        "      with tf.GradientTape() as tape:\n",
        "        tape.watch([w0,b0])\n",
        "        y_hat=model_linear(x_train)\n",
        "        loss=loss_fun(y_train,y_hat)\n",
        "      gradients=tape.gradient(loss,[w0,b0]) #补充 loss 针对 w0,b0的求导\n",
        "      w0.assign_sub(l_r*gradients[0])\n",
        "      b0.assign_sub(l_r*gradients[1])\n",
        "      loss_sum += loss.numpy()\n",
        "      n += x_train.shape[0]\n",
        "\n",
        "    if epoch % 50 ==0:\n",
        "      print(\"epoch={} n={} loss={} train_accuracy={}\".format(epoch,n,loss_sum/n,accuracy_linear(train_x,train_label)))\n",
        "      print(\"   test_accuracy={}\".format(accuracy_linear(test_x,test_label)))\n"
      ],
      "execution_count": null,
      "outputs": []
    },
    {
      "cell_type": "markdown",
      "metadata": {
        "id": "jTeJEs65HfcK",
        "colab_type": "text"
      },
      "source": [
        "训练模型"
      ]
    },
    {
      "cell_type": "code",
      "metadata": {
        "id": "alnRrtyiHzi6",
        "colab_type": "code",
        "colab": {
          "base_uri": "https://localhost:8080/",
          "height": 377
        },
        "outputId": "4b6b6dda-c784-4f63-a1ed-64fc51698aad"
      },
      "source": [
        "#生成变量 w0：shape(784,10),b0:(10,)\n",
        "w0=tf.Variable(tf.random.truncated_normal((784,10),stddev=0.01))\n",
        "b0=tf.Variable(tf.zeros((10,)),dtype=tf.float32)\n",
        "\n",
        "train_linear(w0,b0)"
      ],
      "execution_count": null,
      "outputs": [
        {
          "output_type": "stream",
          "text": [
            "epoch=0 n=60000 loss=0.0002353065986186266 train_accuracy=0.7377166748046875\n",
            "   test_accuracy=0.7488999962806702\n",
            "epoch=50 n=60000 loss=4.699207339435816e-05 train_accuracy=0.912933349609375\n",
            "   test_accuracy=0.916100025177002\n",
            "epoch=100 n=60000 loss=4.279406595354279e-05 train_accuracy=0.9199333190917969\n",
            "   test_accuracy=0.9207000136375427\n",
            "epoch=150 n=60000 loss=4.089387299803396e-05 train_accuracy=0.9231500029563904\n",
            "   test_accuracy=0.9230999946594238\n",
            "epoch=200 n=60000 loss=3.976780177714924e-05 train_accuracy=0.925516664981842\n",
            "   test_accuracy=0.925000011920929\n",
            "epoch=250 n=60000 loss=3.902199703734368e-05 train_accuracy=0.9268500208854675\n",
            "   test_accuracy=0.9264000058174133\n",
            "epoch=300 n=60000 loss=3.850698174598316e-05 train_accuracy=0.9281499981880188\n",
            "   test_accuracy=0.9269999861717224\n",
            "epoch=350 n=60000 loss=3.8146102389631174e-05 train_accuracy=0.928933322429657\n",
            "   test_accuracy=0.9269000291824341\n",
            "epoch=400 n=60000 loss=3.790217291098088e-05 train_accuracy=0.9294666647911072\n",
            "   test_accuracy=0.9277999997138977\n",
            "epoch=450 n=60000 loss=3.7752042454667386e-05 train_accuracy=0.9297500252723694\n",
            "   test_accuracy=0.9276999831199646\n"
          ],
          "name": "stdout"
        }
      ]
    },
    {
      "cell_type": "markdown",
      "metadata": {
        "id": "wj6zh6SQHji0",
        "colab_type": "text"
      },
      "source": [
        "显示识别错误的图片"
      ]
    },
    {
      "cell_type": "code",
      "metadata": {
        "id": "1n3RrQmKH0Lm",
        "colab_type": "code",
        "colab": {
          "base_uri": "https://localhost:8080/",
          "height": 207
        },
        "outputId": "44ce28c8-0b02-4abe-d45b-2314077c674a"
      },
      "source": [
        "ind=tf.not_equal(tf.argmax(model_linear(test_x),axis=1),tf.argmax(test_label,axis=1))\n",
        "test_x_err,test_label_err,model_err=test_x0[ind],test_y0[ind],model_linear(test_x)[ind]\n",
        "\n",
        "test_x_err=test_x0[ind]\n",
        "test_label_err=test_y0[ind]\n",
        "model_err=model_linear(test_x)[ind]\n",
        "\n",
        "\n",
        "for i in range(20):\n",
        "  plt.subplot(2,10,i+1)\n",
        "  plt.title(test_label_err[i])\n",
        "  plt.imshow(test_x_err[i])\n",
        "  plt.xticks([])\n",
        "  plt.yticks([])\n",
        "  xlabel=str(tf.argmax(model_err[i]).numpy())\n",
        "  plt.xlabel(xlabel)\n",
        "\n",
        "plt.tight_layout()"
      ],
      "execution_count": null,
      "outputs": [
        {
          "output_type": "display_data",
          "data": {
            "image/png": "[encoded data removed]",
            "text/plain": [
              "<Figure size 432x288 with 20 Axes>"
            ]
          },
          "metadata": {
            "tags": []
          }
        }
      ]
    }
  ]
}