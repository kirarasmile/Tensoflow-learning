{
  "nbformat": 4,
  "nbformat_minor": 0,
  "metadata": {
    "colab": {
      "name": "lab777.ipynb",
      "provenance": []
    },
    "kernelspec": {
      "name": "python3",
      "display_name": "Python 3"
    }
  },
  "cells": [
    {
      "cell_type": "code",
      "metadata": {
        "id": "AyAfqd8FdEn7",
        "colab_type": "code",
        "colab": {}
      },
      "source": [
        "%tensorflow_version 2.x\n",
        "\n",
        "import tensorflow as tf\n",
        "from tensorflow.keras.datasets import mnist\n",
        "\n",
        "import numpy as np\n",
        "import matplotlib.pyplot as plt\n",
        "%matplotlib inline"
      ],
      "execution_count": null,
      "outputs": []
    },
    {
      "cell_type": "code",
      "metadata": {
        "id": "v8k3uQEpj7iD",
        "colab_type": "code",
        "colab": {}
      },
      "source": [
        "class Model(tf.Module):\n",
        "  def __init__(self):\n",
        "    super(Model,self).__init__()\n",
        "    self.build()\n",
        "\n",
        "  def build(self):\n",
        "    # self.__w=tf.Variable(tf.random.truncated_normal((784,10))*0.1)  \n",
        "    # self.__b=tf.Variable(tf.random.truncated_normal((10,)))\n",
        "    self.__w=tf.Variable(tf.random.truncated_normal((784,10),stddev=0.01))\n",
        "    self.__b=tf.Variable(tf.zeros((10,)),dtype=tf.float32)\n",
        "\n",
        "  @tf.function\n",
        "  def __call__(self,x):\n",
        "    # h=tf.matmul(x,self.__w)-self.__b\n",
        "    h=tf.add(tf.matmul(x,self.__w),self.__b)\n",
        "    return tf.nn.softmax(h)\n",
        "\n",
        "  @property\n",
        "  def variables(self):\n",
        "    return self.__w,self.__b\n"
      ],
      "execution_count": null,
      "outputs": []
    },
    {
      "cell_type": "code",
      "metadata": {
        "id": "Lyqcd9pfkAqZ",
        "colab_type": "code",
        "colab": {}
      },
      "source": [
        "#y:观察值  y_hat:模型值\n",
        "def loss_fun(y,y_hat):\n",
        "  return tf.reduce_mean(tf.square(y-y_hat))"
      ],
      "execution_count": null,
      "outputs": []
    },
    {
      "cell_type": "code",
      "metadata": {
        "id": "ImM7SL6bkE3n",
        "colab_type": "code",
        "colab": {}
      },
      "source": [
        "# 预测准确度\n",
        "def accuracy(X,label):\n",
        "  # return tf.reduce_mean(tf.cast(tf.equal(tf.argmax(X,1),tf.argmax(label,1)),tf.float32))\n",
        "  return tf.reduce_mean(tf.cast(tf.equal(tf.argmax(X,axis=1),tf.argmax(label,axis=1)),tf.float32))"
      ],
      "execution_count": null,
      "outputs": []
    },
    {
      "cell_type": "code",
      "metadata": {
        "id": "QnFY5fwZkG8B",
        "colab_type": "code",
        "colab": {}
      },
      "source": [
        "#自定义Model类实例训练函数\n",
        "# l_r=0.1  #学习率\n",
        "def train_Model(x,y,test_x,test_y):\n",
        "  epochs=50\n",
        "    \n",
        "  for epoch in range(epochs):\n",
        "    l_r=0.3-(0.3-0.01)/epochs*epoch  #学习率\n",
        "\n",
        "    mnist_batch=tf.data.Dataset.from_tensor_slices((x,y)).shuffle(x.shape[0]).batch(300)\n",
        "    loss_sum,n=0,0\n",
        "\n",
        "    for x_train,y_train in mnist_batch:\n",
        "      with tf.GradientTape() as tape:\n",
        "        tape.watch(model.variables)\n",
        "        y_hat=model(x_train)\n",
        "        loss=loss_fun(y_train,y_hat)\n",
        "      gradients=tape.gradient(loss,model.variables)\n",
        "      model.variables[0].assign_sub(l_r*gradients[0])\n",
        "      model.variables[1].assign_sub(l_r*gradients[1])\n",
        "      loss_sum += loss.numpy()\n",
        "      n += x_train.shape[0]\n",
        "\n",
        "    if epoch % 10 ==0:\n",
        "      print(\"epoch={} n={} loss={} train_Accuracy={}\".format(epoch,n,loss_sum/n,accuracy(model(x),y)))\n",
        "      print(\"test_accuracy={}\".format(accuracy(model(test_x),test_y)))"
      ],
      "execution_count": null,
      "outputs": []
    },
    {
      "cell_type": "code",
      "metadata": {
        "id": "kmf8bXs7k1bt",
        "colab_type": "code",
        "colab": {
          "base_uri": "https://localhost:8080/",
          "height": 50
        },
        "outputId": "49e639eb-5399-4dc8-a3dc-bd59451b62b9"
      },
      "source": [
        "#引入数据\n",
        "(train_x0,train_y0),(test_x0,test_y0)=mnist.load_data()"
      ],
      "execution_count": null,
      "outputs": [
        {
          "output_type": "stream",
          "text": [
            "Downloading data from https://storage.googleapis.com/tensorflow/tf-keras-datasets/mnist.npz\n",
            "11493376/11490434 [==============================] - 0s 0us/step\n"
          ],
          "name": "stdout"
        }
      ]
    },
    {
      "cell_type": "code",
      "metadata": {
        "id": "gBuz7CFWJ1Z4",
        "colab_type": "code",
        "colab": {}
      },
      "source": [
        "#转换数据格式,flatten数据并转成float型\n",
        "train_x=tf.reshape(tf.cast(train_x0,tf.float32)/255.0,(-1,784))\n",
        "#标签转为one-hot\n",
        "train_label=tf.cast(tf.one_hot(train_y0,depth=10),tf.float32)\n",
        "\n",
        "test_x=tf.reshape(tf.cast(test_x0,tf.float32)/255.0,(-1,784))\n",
        "#标签转为one-hot\n",
        "test_label=tf.cast(tf.one_hot(test_y0,depth=10),tf.float32)"
      ],
      "execution_count": null,
      "outputs": []
    },
    {
      "cell_type": "code",
      "metadata": {
        "id": "wq_vI2X-lFF8",
        "colab_type": "code",
        "colab": {
          "base_uri": "https://localhost:8080/",
          "height": 185
        },
        "outputId": "706b702d-9ee7-4340-c3fd-0ad773636376"
      },
      "source": [
        "# model=Model(w1,b1,w2,b2)\n",
        "model=Model()\n",
        "train_Model(train_x,train_label,test_x,test_label)"
      ],
      "execution_count": null,
      "outputs": [
        {
          "output_type": "stream",
          "text": [
            "epoch=0 n=60000 loss=0.0002355153949931264 train_Accuracy=0.7440166473388672\n",
            "test_accuracy=0.755299985408783\n",
            "epoch=10 n=60000 loss=6.575437230058014e-05 train_Accuracy=0.886983335018158\n",
            "test_accuracy=0.895799994468689\n",
            "epoch=20 n=60000 loss=5.739706383707623e-05 train_Accuracy=0.8969333171844482\n",
            "test_accuracy=0.90420001745224\n",
            "epoch=30 n=60000 loss=5.419166508751611e-05 train_Accuracy=0.9019333124160767\n",
            "test_accuracy=0.9067999720573425\n",
            "epoch=40 n=60000 loss=5.271263892451922e-05 train_Accuracy=0.9037333130836487\n",
            "test_accuracy=0.9088000059127808\n"
          ],
          "name": "stdout"
        }
      ]
    },
    {
      "cell_type": "code",
      "metadata": {
        "id": "oQzM263GKjeZ",
        "colab_type": "code",
        "colab": {
          "base_uri": "https://localhost:8080/",
          "height": 34
        },
        "outputId": "c4a1a64c-b896-4017-e839-23e1972ad87b"
      },
      "source": [
        "import os\n",
        "\n",
        "file_path=\"./mnist\"\n",
        "if not os.path.exists(file_path):\n",
        "  os.mkdir(file_path)\n",
        "\n",
        "\n",
        "#保存模型训练参数\n",
        "checkpoint=tf.train.Checkpoint(model=model)\n",
        "filePrefix=os.path.join(file_path,'ckpt')\n",
        "checkpoint.save(file_prefix=filePrefix)"
      ],
      "execution_count": null,
      "outputs": [
        {
          "output_type": "execute_result",
          "data": {
            "text/plain": [
              "'./mnist/ckpt-1'"
            ]
          },
          "metadata": {
            "tags": []
          },
          "execution_count": 14
        }
      ]
    },
    {
      "cell_type": "code",
      "metadata": {
        "id": "5Z-7g4KlKkuV",
        "colab_type": "code",
        "colab": {
          "base_uri": "https://localhost:8080/",
          "height": 34
        },
        "outputId": "304ca395-6c91-4006-8707-695de8406f79"
      },
      "source": [
        "!ls ./mnist"
      ],
      "execution_count": null,
      "outputs": [
        {
          "output_type": "stream",
          "text": [
            "checkpoint  ckpt-1.data-00000-of-00001\tckpt-1.index\n"
          ],
          "name": "stdout"
        }
      ]
    },
    {
      "cell_type": "code",
      "metadata": {
        "id": "Qy4_JZo1TXu_",
        "colab_type": "code",
        "colab": {}
      },
      "source": [
        "m=Model()  #这里只是恢复参数，所以需要先生成一个Model实例对象\n",
        "check_point=tf.train.Checkpoint(model=m)\n",
        "status=check_point.restore(tf.train.latest_checkpoint('./mnist'))"
      ],
      "execution_count": null,
      "outputs": []
    },
    {
      "cell_type": "code",
      "metadata": {
        "id": "k_jJUgoYTb50",
        "colab_type": "code",
        "colab": {
          "base_uri": "https://localhost:8080/",
          "height": 50
        },
        "outputId": "69490bfc-fc61-450d-8697-81eb18bd7805"
      },
      "source": [
        "#测试\n",
        "mm=check_point.model\n",
        "print(\"--------------check_point-------------------\")\n",
        "print(\"checkpoint:restored model test accuracy:{}\".format(accuracy(mm(test_x),test_label)))"
      ],
      "execution_count": null,
      "outputs": [
        {
          "output_type": "stream",
          "text": [
            "--------------check_point-------------------\n",
            "checkpoint:restored model test accuracy:0.9093000292778015\n"
          ],
          "name": "stdout"
        }
      ]
    },
    {
      "cell_type": "code",
      "metadata": {
        "id": "KAUzD8FsTinv",
        "colab_type": "code",
        "colab": {
          "base_uri": "https://localhost:8080/",
          "height": 34
        },
        "outputId": "5d04a2c9-f142-498e-9ed8-8c15f5fe0823"
      },
      "source": [
        "#保存完整模型原型\n",
        "tf.saved_model.save(model,\"./mnist/2\")"
      ],
      "execution_count": null,
      "outputs": [
        {
          "output_type": "stream",
          "text": [
            "INFO:tensorflow:Assets written to: ./mnist/2/assets\n"
          ],
          "name": "stdout"
        }
      ]
    },
    {
      "cell_type": "code",
      "metadata": {
        "id": "cqPttS8lTlib",
        "colab_type": "code",
        "colab": {
          "base_uri": "https://localhost:8080/",
          "height": 50
        },
        "outputId": "1e917cb8-3f90-4db3-c5a4-0cee860ad3af"
      },
      "source": [
        "#读取模型并测试\n",
        "ms=tf.saved_model.load(\"./mnist/2\")\n",
        "print(\"------------saved_Model---------------------\")\n",
        "print(\"saved_model :restored model test accuracy:{}\".format(accuracy(ms(test_x),test_label)))"
      ],
      "execution_count": null,
      "outputs": [
        {
          "output_type": "stream",
          "text": [
            "------------saved_Model---------------------\n",
            "saved_model :restored model test accuracy:0.9093000292778015\n"
          ],
          "name": "stdout"
        }
      ]
    }
  ]
}