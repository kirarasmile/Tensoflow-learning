{
  "nbformat": 4,
  "nbformat_minor": 0,
  "metadata": {
    "colab": {
      "name": "lab403.ipynb",
      "provenance": []
    },
    "kernelspec": {
      "name": "python3",
      "display_name": "Python 3"
    }
  },
  "cells": [
    {
      "cell_type": "code",
      "metadata": {
        "id": "p92R1EssJLNt",
        "colab_type": "code",
        "colab": {}
      },
      "source": [
        "%tensorflow_version 2.x"
      ],
      "execution_count": null,
      "outputs": []
    },
    {
      "cell_type": "code",
      "metadata": {
        "id": "_p8MMQJdJzvf",
        "colab_type": "code",
        "colab": {}
      },
      "source": [
        "import tensorflow as tf\n",
        "import numpy as np\n",
        "import matplotlib.pyplot as plt"
      ],
      "execution_count": null,
      "outputs": []
    },
    {
      "cell_type": "code",
      "metadata": {
        "id": "X7fiCeIqPuKF",
        "colab_type": "code",
        "colab": {}
      },
      "source": [
        "x=tf.random.uniform([100,3],0,10)\n",
        "#生成数据y\n",
        "w0=tf.constant([[2.],[3.],[4.]])\n",
        "b0=tf.constant([[5.]])\n",
        "y=x@w0+b0\n"
      ],
      "execution_count": null,
      "outputs": []
    },
    {
      "cell_type": "markdown",
      "metadata": {
        "id": "BOvB1qQT1HFS",
        "colab_type": "text"
      },
      "source": [
        ""
      ]
    },
    {
      "cell_type": "code",
      "metadata": {
        "id": "RtKXfZycQbVS",
        "colab_type": "code",
        "colab": {}
      },
      "source": [
        "class Model(tf.Module):\n",
        "  def __init__(self):\n",
        "    super().__init__()\n",
        "  def __call__(self,x,w,b):\n",
        "    return tf.matmul(x,w)+b"
      ],
      "execution_count": null,
      "outputs": []
    },
    {
      "cell_type": "code",
      "metadata": {
        "id": "payFCbWTmTl1",
        "colab_type": "code",
        "colab": {}
      },
      "source": [
        "def model(x,w,b):\n",
        "    return tf.add(tf.matmul(x,w),b)"
      ],
      "execution_count": null,
      "outputs": []
    },
    {
      "cell_type": "code",
      "metadata": {
        "id": "udUr5jhQSVWC",
        "colab_type": "code",
        "colab": {
          "base_uri": "https://localhost:8080/",
          "height": 197
        },
        "outputId": "2064136d-eb03-421a-b0fb-01023d4bb0ab"
      },
      "source": [
        "#使用GradientTape\n",
        "epochs=2000\n",
        "l_r=0.01\n",
        "\n",
        "#权重和偏执变量\n",
        "w=tf.Variable(tf.random.normal((3,1))*.1)\n",
        "b=tf.Variable(tf.random.normal((1,))*.1)\n",
        "\n",
        "for epoch in range(epochs):\n",
        "  with tf.GradientTape() as tape:\n",
        "    tape.watch([w,b])\n",
        "    y_=model(x,w,b)\n",
        "    loss=tf.reduce_mean(tf.square(y_-y))\n",
        "  grad_w,grad_b=tape.gradient(loss,[w,b])\n",
        "  w.assign_sub(grad_w*l_r)\n",
        "  b.assign_sub(grad_b*l_r)\n",
        "  if epoch%200==0:\n",
        "    print(\"epoch:{}  loss:{}\".format(epoch,loss))"
      ],
      "execution_count": null,
      "outputs": [
        {
          "output_type": "stream",
          "text": [
            "epoch:0  loss:2586.455322265625\n",
            "epoch:200  loss:0.8823869824409485\n",
            "epoch:400  loss:0.3729739487171173\n",
            "epoch:600  loss:0.15765197575092316\n",
            "epoch:800  loss:0.06663764268159866\n",
            "epoch:1000  loss:0.02816697210073471\n",
            "epoch:1200  loss:0.011905713006854057\n",
            "epoch:1400  loss:0.005032422952353954\n",
            "epoch:1600  loss:0.0021271994337439537\n",
            "epoch:1800  loss:0.000899128383025527\n"
          ],
          "name": "stdout"
        }
      ]
    },
    {
      "cell_type": "code",
      "metadata": {
        "id": "KcxA7QW-l1UQ",
        "colab_type": "code",
        "colab": {
          "base_uri": "https://localhost:8080/",
          "height": 107
        },
        "outputId": "2906b694-3416-4756-96cd-030dd928823e"
      },
      "source": [
        "print(w)\n",
        "print(b)"
      ],
      "execution_count": null,
      "outputs": [
        {
          "output_type": "stream",
          "text": [
            "<tf.Variable 'Variable:0' shape=(3, 1) dtype=float32, numpy=\n",
            "array([[2.00293  ],\n",
            "       [3.0041916],\n",
            "       [4.0037208]], dtype=float32)>\n",
            "<tf.Variable 'Variable:0' shape=(1,) dtype=float32, numpy=array([4.9408875], dtype=float32)>\n"
          ],
          "name": "stdout"
        }
      ]
    }
  ]
}