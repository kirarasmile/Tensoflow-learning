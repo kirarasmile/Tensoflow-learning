{
  "nbformat": 4,
  "nbformat_minor": 0,
  "metadata": {
    "colab": {
      "name": "LAB10.ipynb",
      "provenance": [],
      "collapsed_sections": []
    },
    "kernelspec": {
      "name": "python3",
      "display_name": "Python 3"
    }
  },
  "cells": [
    {
      "cell_type": "markdown",
      "metadata": {
        "id": "NWBh6v1UsvwZ",
        "colab_type": "text"
      },
      "source": [
        "导入库"
      ]
    },
    {
      "cell_type": "code",
      "metadata": {
        "id": "Gg4iKjzKoZtI",
        "colab_type": "code",
        "colab": {}
      },
      "source": [
        "%tensorflow_version 2.x\n",
        "import tensorflow as tf\n",
        "import numpy as np\n",
        "from tensorflow.keras import Sequential\n",
        "from tensorflow.keras.layers import Dense,Activation\n",
        "\n",
        "import matplotlib.pyplot as plt"
      ],
      "execution_count": null,
      "outputs": []
    },
    {
      "cell_type": "markdown",
      "metadata": {
        "id": "m2oZLyz8upDp",
        "colab_type": "text"
      },
      "source": [
        "生成数据集"
      ]
    },
    {
      "cell_type": "code",
      "metadata": {
        "id": "LJBMkqW4Ffrh",
        "colab_type": "code",
        "colab": {}
      },
      "source": [
        "X1=np.random.uniform(0,100,size=(500,3)).astype(np.float32)\n",
        "np.random.shuffle(X1) \n",
        "w0=np.array([[1.],[2.],[3.]]).astype(np.float32)\n",
        "b0=np.array([[10.]]).astype(np.float32)\n",
        "Y1=np.matmul(X1,w0)+b0+np.random.normal(size=(500,1))*0.2\n",
        "m_m=X1.max()-X1.min()\n",
        "X1 /= m_m\n",
        "Y1 /= m_m"
      ],
      "execution_count": null,
      "outputs": []
    },
    {
      "cell_type": "code",
      "metadata": {
        "id": "G3lG8QpYGX9a",
        "colab_type": "code",
        "colab": {
          "base_uri": "https://localhost:8080/",
          "height": 35
        },
        "outputId": "69a83770-62d2-4fb2-9031-08b9d4b098c1"
      },
      "source": [
        "X1.shape,Y1.shape"
      ],
      "execution_count": null,
      "outputs": [
        {
          "output_type": "execute_result",
          "data": {
            "text/plain": [
              "((500, 3), (500, 1))"
            ]
          },
          "metadata": {
            "tags": []
          },
          "execution_count": 21
        }
      ]
    },
    {
      "cell_type": "code",
      "metadata": {
        "id": "Lkrnw51VGsO_",
        "colab_type": "code",
        "colab": {}
      },
      "source": [
        "X1_train, Y1_train = X1[:400,:], Y1[:400]     # 前400组数据为训练数据集\n",
        "X1_test, Y1_test = X1[400:,:], Y1[400:]      #后100组数据为测试数据集"
      ],
      "execution_count": null,
      "outputs": []
    },
    {
      "cell_type": "code",
      "metadata": {
        "id": "5jexfLJtd8iG",
        "colab_type": "code",
        "colab": {}
      },
      "source": [
        "partial_X1= X1_train[300:,:]\n",
        "partial_Y1= Y1_train[300:]\n",
        "\n",
        "partial_X1_val= X1_train[:300,:]\n",
        "partial_Y1_val= Y1_train[:300]"
      ],
      "execution_count": null,
      "outputs": []
    },
    {
      "cell_type": "code",
      "metadata": {
        "id": "DKXwEFUHIzaG",
        "colab_type": "code",
        "colab": {
          "base_uri": "https://localhost:8080/",
          "height": 35
        },
        "outputId": "17176e95-0215-4901-f712-276029292105"
      },
      "source": [
        "partial_X1_val.shape,Y1_train.shape"
      ],
      "execution_count": null,
      "outputs": [
        {
          "output_type": "execute_result",
          "data": {
            "text/plain": [
              "((300, 3), (400, 1))"
            ]
          },
          "metadata": {
            "tags": []
          },
          "execution_count": 24
        }
      ]
    },
    {
      "cell_type": "markdown",
      "metadata": {
        "id": "NEVtuT6ssyWV",
        "colab_type": "text"
      },
      "source": [
        "构建模型"
      ]
    },
    {
      "cell_type": "code",
      "metadata": {
        "id": "on8NCVrasvV3",
        "colab_type": "code",
        "colab": {}
      },
      "source": [
        "model=Sequential()\n",
        "# 全连接层\n",
        "# model.add(Dense(units=1,input_dim=36))\n",
        "# model.add(Dense(64,activation='relu', input_shape=(X1_train.shape[1],)))\n",
        "# model.add(Dense(64,activation='relu'))\n",
        "# model.add(Dense(1))\n",
        "model.add(Dense(1,input_shape=(X1_train.shape[1],)))"
      ],
      "execution_count": null,
      "outputs": []
    },
    {
      "cell_type": "markdown",
      "metadata": {
        "id": "kCiK_m-ss2ae",
        "colab_type": "text"
      },
      "source": [
        "选定loss函数和优化器"
      ]
    },
    {
      "cell_type": "code",
      "metadata": {
        "id": "WYRHOcAls7S1",
        "colab_type": "code",
        "colab": {}
      },
      "source": [
        "model.compile(optimizer='sgd',loss='mse',metrics=['mae'])"
      ],
      "execution_count": null,
      "outputs": []
    },
    {
      "cell_type": "markdown",
      "metadata": {
        "id": "2YQgJ87hu-BO",
        "colab_type": "text"
      },
      "source": [
        "训练模型"
      ]
    },
    {
      "cell_type": "code",
      "metadata": {
        "id": "ACIpx9xcu_z2",
        "colab_type": "code",
        "colab": {
          "base_uri": "https://localhost:8080/",
          "height": 1000
        },
        "outputId": "1c56cb1a-83f3-4f3f-9f7a-988add59e548"
      },
      "source": [
        "test=model.fit(partial_X1,partial_Y1, epochs=100, batch_size = 300, validation_data=(partial_X1_val,partial_Y1_val))"
      ],
      "execution_count": null,
      "outputs": [
        {
          "output_type": "stream",
          "text": [
            "Epoch 1/100\n",
            "1/1 [==============================] - 0s 71ms/step - loss: 4.2923 - mae: 1.9225 - val_loss: 3.9539 - val_mae: 1.8753\n",
            "Epoch 2/100\n",
            "1/1 [==============================] - 0s 29ms/step - loss: 4.0087 - mae: 1.8519 - val_loss: 3.6862 - val_mae: 1.8057\n",
            "Epoch 3/100\n",
            "1/1 [==============================] - 0s 27ms/step - loss: 3.7449 - mae: 1.7839 - val_loss: 3.4374 - val_mae: 1.7386\n",
            "Epoch 4/100\n",
            "1/1 [==============================] - 0s 25ms/step - loss: 3.4995 - mae: 1.7182 - val_loss: 3.2062 - val_mae: 1.6739\n",
            "Epoch 5/100\n",
            "1/1 [==============================] - 0s 27ms/step - loss: 3.2712 - mae: 1.6549 - val_loss: 2.9913 - val_mae: 1.6115\n",
            "Epoch 6/100\n",
            "1/1 [==============================] - 0s 29ms/step - loss: 3.0589 - mae: 1.5940 - val_loss: 2.7916 - val_mae: 1.5514\n",
            "Epoch 7/100\n",
            "1/1 [==============================] - 0s 28ms/step - loss: 2.8614 - mae: 1.5358 - val_loss: 2.6059 - val_mae: 1.4934\n",
            "Epoch 8/100\n",
            "1/1 [==============================] - 0s 30ms/step - loss: 2.6777 - mae: 1.4803 - val_loss: 2.4334 - val_mae: 1.4374\n",
            "Epoch 9/100\n",
            "1/1 [==============================] - 0s 25ms/step - loss: 2.5068 - mae: 1.4268 - val_loss: 2.2731 - val_mae: 1.3836\n",
            "Epoch 10/100\n",
            "1/1 [==============================] - 0s 26ms/step - loss: 2.3478 - mae: 1.3752 - val_loss: 2.1241 - val_mae: 1.3320\n",
            "Epoch 11/100\n",
            "1/1 [==============================] - 0s 27ms/step - loss: 2.1999 - mae: 1.3254 - val_loss: 1.9857 - val_mae: 1.2825\n",
            "Epoch 12/100\n",
            "1/1 [==============================] - 0s 27ms/step - loss: 2.0623 - mae: 1.2774 - val_loss: 1.8570 - val_mae: 1.2348\n",
            "Epoch 13/100\n",
            "1/1 [==============================] - 0s 25ms/step - loss: 1.9343 - mae: 1.2312 - val_loss: 1.7375 - val_mae: 1.1890\n",
            "Epoch 14/100\n",
            "1/1 [==============================] - 0s 28ms/step - loss: 1.8152 - mae: 1.1866 - val_loss: 1.6263 - val_mae: 1.1453\n",
            "Epoch 15/100\n",
            "1/1 [==============================] - 0s 29ms/step - loss: 1.7044 - mae: 1.1440 - val_loss: 1.5231 - val_mae: 1.1039\n",
            "Epoch 16/100\n",
            "1/1 [==============================] - 0s 32ms/step - loss: 1.6013 - mae: 1.1031 - val_loss: 1.4271 - val_mae: 1.0642\n",
            "Epoch 17/100\n",
            "1/1 [==============================] - 0s 27ms/step - loss: 1.5054 - mae: 1.0643 - val_loss: 1.3380 - val_mae: 1.0263\n",
            "Epoch 18/100\n",
            "1/1 [==============================] - 0s 31ms/step - loss: 1.4162 - mae: 1.0283 - val_loss: 1.2552 - val_mae: 0.9898\n",
            "Epoch 19/100\n",
            "1/1 [==============================] - 0s 28ms/step - loss: 1.3332 - mae: 0.9941 - val_loss: 1.1782 - val_mae: 0.9549\n",
            "Epoch 20/100\n",
            "1/1 [==============================] - 0s 28ms/step - loss: 1.2559 - mae: 0.9615 - val_loss: 1.1066 - val_mae: 0.9214\n",
            "Epoch 21/100\n",
            "1/1 [==============================] - 0s 28ms/step - loss: 1.1840 - mae: 0.9310 - val_loss: 1.0402 - val_mae: 0.8896\n",
            "Epoch 22/100\n",
            "1/1 [==============================] - 0s 31ms/step - loss: 1.1171 - mae: 0.9018 - val_loss: 0.9784 - val_mae: 0.8593\n",
            "Epoch 23/100\n",
            "1/1 [==============================] - 0s 28ms/step - loss: 1.0549 - mae: 0.8756 - val_loss: 0.9210 - val_mae: 0.8305\n",
            "Epoch 24/100\n",
            "1/1 [==============================] - 0s 26ms/step - loss: 0.9969 - mae: 0.8512 - val_loss: 0.8677 - val_mae: 0.8029\n",
            "Epoch 25/100\n",
            "1/1 [==============================] - 0s 27ms/step - loss: 0.9430 - mae: 0.8279 - val_loss: 0.8182 - val_mae: 0.7767\n",
            "Epoch 26/100\n",
            "1/1 [==============================] - 0s 27ms/step - loss: 0.8928 - mae: 0.8056 - val_loss: 0.7722 - val_mae: 0.7520\n",
            "Epoch 27/100\n",
            "1/1 [==============================] - 0s 26ms/step - loss: 0.8460 - mae: 0.7843 - val_loss: 0.7294 - val_mae: 0.7285\n",
            "Epoch 28/100\n",
            "1/1 [==============================] - 0s 32ms/step - loss: 0.8025 - mae: 0.7637 - val_loss: 0.6897 - val_mae: 0.7063\n",
            "Epoch 29/100\n",
            "1/1 [==============================] - 0s 27ms/step - loss: 0.7620 - mae: 0.7439 - val_loss: 0.6527 - val_mae: 0.6851\n",
            "Epoch 30/100\n",
            "1/1 [==============================] - 0s 26ms/step - loss: 0.7243 - mae: 0.7249 - val_loss: 0.6184 - val_mae: 0.6649\n",
            "Epoch 31/100\n",
            "1/1 [==============================] - 0s 27ms/step - loss: 0.6892 - mae: 0.7071 - val_loss: 0.5865 - val_mae: 0.6457\n",
            "Epoch 32/100\n",
            "1/1 [==============================] - 0s 27ms/step - loss: 0.6565 - mae: 0.6901 - val_loss: 0.5569 - val_mae: 0.6279\n",
            "Epoch 33/100\n",
            "1/1 [==============================] - 0s 27ms/step - loss: 0.6261 - mae: 0.6737 - val_loss: 0.5294 - val_mae: 0.6113\n",
            "Epoch 34/100\n",
            "1/1 [==============================] - 0s 27ms/step - loss: 0.5977 - mae: 0.6579 - val_loss: 0.5038 - val_mae: 0.5956\n",
            "Epoch 35/100\n",
            "1/1 [==============================] - 0s 26ms/step - loss: 0.5713 - mae: 0.6426 - val_loss: 0.4801 - val_mae: 0.5806\n",
            "Epoch 36/100\n",
            "1/1 [==============================] - 0s 32ms/step - loss: 0.5467 - mae: 0.6279 - val_loss: 0.4580 - val_mae: 0.5664\n",
            "Epoch 37/100\n",
            "1/1 [==============================] - 0s 27ms/step - loss: 0.5238 - mae: 0.6136 - val_loss: 0.4375 - val_mae: 0.5528\n",
            "Epoch 38/100\n",
            "1/1 [==============================] - 0s 27ms/step - loss: 0.5024 - mae: 0.5999 - val_loss: 0.4184 - val_mae: 0.5400\n",
            "Epoch 39/100\n",
            "1/1 [==============================] - 0s 33ms/step - loss: 0.4825 - mae: 0.5870 - val_loss: 0.4007 - val_mae: 0.5279\n",
            "Epoch 40/100\n",
            "1/1 [==============================] - 0s 25ms/step - loss: 0.4640 - mae: 0.5751 - val_loss: 0.3842 - val_mae: 0.5163\n",
            "Epoch 41/100\n",
            "1/1 [==============================] - 0s 27ms/step - loss: 0.4467 - mae: 0.5641 - val_loss: 0.3689 - val_mae: 0.5055\n",
            "Epoch 42/100\n",
            "1/1 [==============================] - 0s 30ms/step - loss: 0.4305 - mae: 0.5539 - val_loss: 0.3546 - val_mae: 0.4952\n",
            "Epoch 43/100\n",
            "1/1 [==============================] - 0s 28ms/step - loss: 0.4155 - mae: 0.5441 - val_loss: 0.3414 - val_mae: 0.4857\n",
            "Epoch 44/100\n",
            "1/1 [==============================] - 0s 28ms/step - loss: 0.4015 - mae: 0.5349 - val_loss: 0.3291 - val_mae: 0.4768\n",
            "Epoch 45/100\n",
            "1/1 [==============================] - 0s 28ms/step - loss: 0.3884 - mae: 0.5262 - val_loss: 0.3177 - val_mae: 0.4684\n",
            "Epoch 46/100\n",
            "1/1 [==============================] - 0s 29ms/step - loss: 0.3762 - mae: 0.5180 - val_loss: 0.3070 - val_mae: 0.4604\n",
            "Epoch 47/100\n",
            "1/1 [==============================] - 0s 28ms/step - loss: 0.3648 - mae: 0.5102 - val_loss: 0.2972 - val_mae: 0.4527\n",
            "Epoch 48/100\n",
            "1/1 [==============================] - 0s 37ms/step - loss: 0.3541 - mae: 0.5027 - val_loss: 0.2880 - val_mae: 0.4453\n",
            "Epoch 49/100\n",
            "1/1 [==============================] - 0s 49ms/step - loss: 0.3442 - mae: 0.4954 - val_loss: 0.2794 - val_mae: 0.4385\n",
            "Epoch 50/100\n",
            "1/1 [==============================] - 0s 33ms/step - loss: 0.3349 - mae: 0.4885 - val_loss: 0.2714 - val_mae: 0.4321\n",
            "Epoch 51/100\n",
            "1/1 [==============================] - 0s 30ms/step - loss: 0.3263 - mae: 0.4821 - val_loss: 0.2640 - val_mae: 0.4260\n",
            "Epoch 52/100\n",
            "1/1 [==============================] - 0s 29ms/step - loss: 0.3182 - mae: 0.4759 - val_loss: 0.2571 - val_mae: 0.4201\n",
            "Epoch 53/100\n",
            "1/1 [==============================] - 0s 29ms/step - loss: 0.3106 - mae: 0.4700 - val_loss: 0.2507 - val_mae: 0.4149\n",
            "Epoch 54/100\n",
            "1/1 [==============================] - 0s 32ms/step - loss: 0.3035 - mae: 0.4645 - val_loss: 0.2447 - val_mae: 0.4100\n",
            "Epoch 55/100\n",
            "1/1 [==============================] - 0s 32ms/step - loss: 0.2969 - mae: 0.4592 - val_loss: 0.2392 - val_mae: 0.4053\n",
            "Epoch 56/100\n",
            "1/1 [==============================] - 0s 29ms/step - loss: 0.2907 - mae: 0.4543 - val_loss: 0.2340 - val_mae: 0.4009\n",
            "Epoch 57/100\n",
            "1/1 [==============================] - 0s 29ms/step - loss: 0.2848 - mae: 0.4497 - val_loss: 0.2292 - val_mae: 0.3967\n",
            "Epoch 58/100\n",
            "1/1 [==============================] - 0s 34ms/step - loss: 0.2794 - mae: 0.4452 - val_loss: 0.2246 - val_mae: 0.3927\n",
            "Epoch 59/100\n",
            "1/1 [==============================] - 0s 34ms/step - loss: 0.2743 - mae: 0.4408 - val_loss: 0.2204 - val_mae: 0.3889\n",
            "Epoch 60/100\n",
            "1/1 [==============================] - 0s 28ms/step - loss: 0.2695 - mae: 0.4367 - val_loss: 0.2165 - val_mae: 0.3853\n",
            "Epoch 61/100\n",
            "1/1 [==============================] - 0s 32ms/step - loss: 0.2650 - mae: 0.4329 - val_loss: 0.2129 - val_mae: 0.3819\n",
            "Epoch 62/100\n",
            "1/1 [==============================] - 0s 30ms/step - loss: 0.2608 - mae: 0.4293 - val_loss: 0.2094 - val_mae: 0.3787\n",
            "Epoch 63/100\n",
            "1/1 [==============================] - 0s 29ms/step - loss: 0.2569 - mae: 0.4258 - val_loss: 0.2063 - val_mae: 0.3757\n",
            "Epoch 64/100\n",
            "1/1 [==============================] - 0s 28ms/step - loss: 0.2531 - mae: 0.4225 - val_loss: 0.2033 - val_mae: 0.3729\n",
            "Epoch 65/100\n",
            "1/1 [==============================] - 0s 28ms/step - loss: 0.2496 - mae: 0.4195 - val_loss: 0.2005 - val_mae: 0.3703\n",
            "Epoch 66/100\n",
            "1/1 [==============================] - 0s 31ms/step - loss: 0.2463 - mae: 0.4166 - val_loss: 0.1979 - val_mae: 0.3679\n",
            "Epoch 67/100\n",
            "1/1 [==============================] - 0s 28ms/step - loss: 0.2432 - mae: 0.4138 - val_loss: 0.1954 - val_mae: 0.3656\n",
            "Epoch 68/100\n",
            "1/1 [==============================] - 0s 29ms/step - loss: 0.2403 - mae: 0.4111 - val_loss: 0.1931 - val_mae: 0.3636\n",
            "Epoch 69/100\n",
            "1/1 [==============================] - 0s 33ms/step - loss: 0.2376 - mae: 0.4086 - val_loss: 0.1910 - val_mae: 0.3616\n",
            "Epoch 70/100\n",
            "1/1 [==============================] - 0s 28ms/step - loss: 0.2350 - mae: 0.4063 - val_loss: 0.1890 - val_mae: 0.3597\n",
            "Epoch 71/100\n",
            "1/1 [==============================] - 0s 28ms/step - loss: 0.2325 - mae: 0.4041 - val_loss: 0.1871 - val_mae: 0.3580\n",
            "Epoch 72/100\n",
            "1/1 [==============================] - 0s 28ms/step - loss: 0.2302 - mae: 0.4019 - val_loss: 0.1853 - val_mae: 0.3563\n",
            "Epoch 73/100\n",
            "1/1 [==============================] - 0s 29ms/step - loss: 0.2280 - mae: 0.3999 - val_loss: 0.1836 - val_mae: 0.3547\n",
            "Epoch 74/100\n",
            "1/1 [==============================] - 0s 28ms/step - loss: 0.2259 - mae: 0.3980 - val_loss: 0.1820 - val_mae: 0.3532\n",
            "Epoch 75/100\n",
            "1/1 [==============================] - 0s 29ms/step - loss: 0.2239 - mae: 0.3963 - val_loss: 0.1806 - val_mae: 0.3517\n",
            "Epoch 76/100\n",
            "1/1 [==============================] - 0s 27ms/step - loss: 0.2221 - mae: 0.3945 - val_loss: 0.1792 - val_mae: 0.3503\n",
            "Epoch 77/100\n",
            "1/1 [==============================] - 0s 38ms/step - loss: 0.2203 - mae: 0.3928 - val_loss: 0.1778 - val_mae: 0.3490\n",
            "Epoch 78/100\n",
            "1/1 [==============================] - 0s 30ms/step - loss: 0.2186 - mae: 0.3912 - val_loss: 0.1766 - val_mae: 0.3477\n",
            "Epoch 79/100\n",
            "1/1 [==============================] - 0s 34ms/step - loss: 0.2170 - mae: 0.3896 - val_loss: 0.1754 - val_mae: 0.3464\n",
            "Epoch 80/100\n",
            "1/1 [==============================] - 0s 29ms/step - loss: 0.2154 - mae: 0.3880 - val_loss: 0.1743 - val_mae: 0.3453\n",
            "Epoch 81/100\n",
            "1/1 [==============================] - 0s 27ms/step - loss: 0.2140 - mae: 0.3866 - val_loss: 0.1732 - val_mae: 0.3441\n",
            "Epoch 82/100\n",
            "1/1 [==============================] - 0s 29ms/step - loss: 0.2126 - mae: 0.3853 - val_loss: 0.1722 - val_mae: 0.3430\n",
            "Epoch 83/100\n",
            "1/1 [==============================] - 0s 27ms/step - loss: 0.2112 - mae: 0.3839 - val_loss: 0.1712 - val_mae: 0.3419\n",
            "Epoch 84/100\n",
            "1/1 [==============================] - 0s 30ms/step - loss: 0.2100 - mae: 0.3827 - val_loss: 0.1703 - val_mae: 0.3409\n",
            "Epoch 85/100\n",
            "1/1 [==============================] - 0s 29ms/step - loss: 0.2087 - mae: 0.3814 - val_loss: 0.1694 - val_mae: 0.3400\n",
            "Epoch 86/100\n",
            "1/1 [==============================] - 0s 29ms/step - loss: 0.2075 - mae: 0.3802 - val_loss: 0.1685 - val_mae: 0.3391\n",
            "Epoch 87/100\n",
            "1/1 [==============================] - 0s 31ms/step - loss: 0.2064 - mae: 0.3791 - val_loss: 0.1677 - val_mae: 0.3382\n",
            "Epoch 88/100\n",
            "1/1 [==============================] - 0s 27ms/step - loss: 0.2053 - mae: 0.3780 - val_loss: 0.1670 - val_mae: 0.3373\n",
            "Epoch 89/100\n",
            "1/1 [==============================] - 0s 32ms/step - loss: 0.2043 - mae: 0.3769 - val_loss: 0.1662 - val_mae: 0.3365\n",
            "Epoch 90/100\n",
            "1/1 [==============================] - 0s 31ms/step - loss: 0.2033 - mae: 0.3758 - val_loss: 0.1655 - val_mae: 0.3357\n",
            "Epoch 91/100\n",
            "1/1 [==============================] - 0s 29ms/step - loss: 0.2023 - mae: 0.3748 - val_loss: 0.1648 - val_mae: 0.3349\n",
            "Epoch 92/100\n",
            "1/1 [==============================] - 0s 28ms/step - loss: 0.2013 - mae: 0.3737 - val_loss: 0.1641 - val_mae: 0.3341\n",
            "Epoch 93/100\n",
            "1/1 [==============================] - 0s 32ms/step - loss: 0.2004 - mae: 0.3727 - val_loss: 0.1635 - val_mae: 0.3334\n",
            "Epoch 94/100\n",
            "1/1 [==============================] - 0s 29ms/step - loss: 0.1995 - mae: 0.3717 - val_loss: 0.1629 - val_mae: 0.3327\n",
            "Epoch 95/100\n",
            "1/1 [==============================] - 0s 29ms/step - loss: 0.1987 - mae: 0.3708 - val_loss: 0.1623 - val_mae: 0.3320\n",
            "Epoch 96/100\n",
            "1/1 [==============================] - 0s 27ms/step - loss: 0.1978 - mae: 0.3698 - val_loss: 0.1617 - val_mae: 0.3314\n",
            "Epoch 97/100\n",
            "1/1 [==============================] - 0s 27ms/step - loss: 0.1970 - mae: 0.3690 - val_loss: 0.1611 - val_mae: 0.3308\n",
            "Epoch 98/100\n",
            "1/1 [==============================] - 0s 26ms/step - loss: 0.1962 - mae: 0.3682 - val_loss: 0.1605 - val_mae: 0.3302\n",
            "Epoch 99/100\n",
            "1/1 [==============================] - 0s 31ms/step - loss: 0.1955 - mae: 0.3673 - val_loss: 0.1600 - val_mae: 0.3296\n",
            "Epoch 100/100\n",
            "1/1 [==============================] - 0s 30ms/step - loss: 0.1947 - mae: 0.3665 - val_loss: 0.1595 - val_mae: 0.3290\n"
          ],
          "name": "stdout"
        }
      ]
    },
    {
      "cell_type": "code",
      "metadata": {
        "id": "B-3K0dgK82SU",
        "colab_type": "code",
        "colab": {
          "base_uri": "https://localhost:8080/",
          "height": 197
        },
        "outputId": "08bd987e-5cc6-46c8-9f29-507aacac3aad"
      },
      "source": [
        "model.summary()"
      ],
      "execution_count": null,
      "outputs": [
        {
          "output_type": "stream",
          "text": [
            "Model: \"sequential_1\"\n",
            "_________________________________________________________________\n",
            "Layer (type)                 Output Shape              Param #   \n",
            "=================================================================\n",
            "dense_1 (Dense)              (None, 1)                 4         \n",
            "=================================================================\n",
            "Total params: 4\n",
            "Trainable params: 4\n",
            "Non-trainable params: 0\n",
            "_________________________________________________________________\n"
          ],
          "name": "stdout"
        }
      ]
    },
    {
      "cell_type": "markdown",
      "metadata": {
        "id": "KqPgpE_NDep-",
        "colab_type": "text"
      },
      "source": [
        "模型评估"
      ]
    },
    {
      "cell_type": "code",
      "metadata": {
        "id": "KFjqQGOVgyM3",
        "colab_type": "code",
        "colab": {
          "base_uri": "https://localhost:8080/",
          "height": 53
        },
        "outputId": "b764239d-7048-4c00-8a1b-7ec665346416"
      },
      "source": [
        "model.evaluate(X1_test,Y1_test)"
      ],
      "execution_count": null,
      "outputs": [
        {
          "output_type": "stream",
          "text": [
            "4/4 [==============================] - 0s 2ms/step - loss: 0.1854 - mae: 0.3546\n"
          ],
          "name": "stdout"
        },
        {
          "output_type": "execute_result",
          "data": {
            "text/plain": [
              "[0.18537336587905884, 0.3546347916126251]"
            ]
          },
          "metadata": {
            "tags": []
          },
          "execution_count": 29
        }
      ]
    },
    {
      "cell_type": "code",
      "metadata": {
        "id": "tb3VjDcdhadW",
        "colab_type": "code",
        "colab": {
          "base_uri": "https://localhost:8080/",
          "height": 215
        },
        "outputId": "179a51fd-08d4-4dcd-ed97-8e4e0a313354"
      },
      "source": [
        "print(model(X1_test[:5]))\n",
        "print(Y1_test[:5])"
      ],
      "execution_count": null,
      "outputs": [
        {
          "output_type": "stream",
          "text": [
            "tf.Tensor(\n",
            "[[4.695365 ]\n",
            " [4.0556164]\n",
            " [3.96361  ]\n",
            " [4.1801157]\n",
            " [1.7333758]], shape=(5, 1), dtype=float32)\n",
            "[[5.34106438]\n",
            " [4.37538372]\n",
            " [4.00817974]\n",
            " [4.27029392]\n",
            " [1.27601539]]\n"
          ],
          "name": "stdout"
        }
      ]
    },
    {
      "cell_type": "code",
      "metadata": {
        "id": "pB_dRctdWaTD",
        "colab_type": "code",
        "colab": {
          "base_uri": "https://localhost:8080/",
          "height": 35
        },
        "outputId": "50c60aee-7562-4d21-eb86-2b74c61083b4"
      },
      "source": [
        "history_dict = test.history\n",
        "history_dict.keys()"
      ],
      "execution_count": null,
      "outputs": [
        {
          "output_type": "execute_result",
          "data": {
            "text/plain": [
              "dict_keys(['loss', 'mae', 'val_loss', 'val_mae'])"
            ]
          },
          "metadata": {
            "tags": []
          },
          "execution_count": 31
        }
      ]
    },
    {
      "cell_type": "code",
      "metadata": {
        "id": "rbmwAhLQa-_x",
        "colab_type": "code",
        "colab": {
          "base_uri": "https://localhost:8080/",
          "height": 295
        },
        "outputId": "34f042e2-37a7-468a-a49d-a1700e8f7bd1"
      },
      "source": [
        "loss_values = history_dict['loss']\n",
        "val_loss_values = history_dict['val_loss']\n",
        "epochs = range(1, len(loss_values) + 1)\n",
        "plt.plot(epochs, loss_values, 'bo', label='Training loss')\n",
        "plt.plot(epochs, val_loss_values, 'b', label='Validation loss')\n",
        "plt.title('test')\n",
        "plt.xlabel('Epochs')\n",
        "plt.ylabel('Loss')\n",
        "plt.legend()\n",
        "plt.show()"
      ],
      "execution_count": null,
      "outputs": [
        {
          "output_type": "display_data",
          "data": {
            "image/png": "[encoded data removed]",
            "text/plain": [
              "<Figure size 432x288 with 1 Axes>"
            ]
          },
          "metadata": {
            "tags": [],
            "needs_background": "light"
          }
        }
      ]
    },
    {
      "cell_type": "markdown",
      "metadata": {
        "id": "FH3gIZwCkPtF",
        "colab_type": "text"
      },
      "source": [
        ""
      ]
    },
    {
      "cell_type": "code",
      "metadata": {
        "id": "L_eEK1w7kQ10",
        "colab_type": "code",
        "colab": {
          "base_uri": "https://localhost:8080/",
          "height": 295
        },
        "outputId": "a462f6d7-ee60-4480-ba90-f0b13ec8abb3"
      },
      "source": [
        "plt.clf()\n",
        "mae = history_dict['mae']\n",
        "val_mae = history_dict['val_mae']\n",
        "epochs = range(1, len(loss_values) + 1)\n",
        "plt.plot(epochs, mae, 'bo', label='Training loss')\n",
        "plt.plot(epochs, val_mae, 'b', label='Validation loss')\n",
        "plt.title('testmae')\n",
        "plt.xlabel('Epochs')\n",
        "plt.ylabel('mae')\n",
        "plt.legend()\n",
        "plt.show()"
      ],
      "execution_count": null,
      "outputs": [
        {
          "output_type": "display_data",
          "data": {
            "image/png": "[encoded data removed]",
            "text/plain": [
              "<Figure size 432x288 with 1 Axes>"
            ]
          },
          "metadata": {
            "tags": [],
            "needs_background": "light"
          }
        }
      ]
    },
    {
      "cell_type": "code",
      "metadata": {
        "id": "5K9ZVG_9s9jx",
        "colab_type": "code",
        "colab": {
          "base_uri": "https://localhost:8080/",
          "height": 161
        },
        "outputId": "059b4b2b-d662-442b-ad8b-3139601cced8"
      },
      "source": [
        "print('\\nTesting ------------')\n",
        "cost = model.evaluate(X1_test, Y1_test, batch_size=40)\n",
        "print('test cost:', cost)\n",
        "W, b = model.layers[0].get_weights()\n",
        "print('Weights=', W, '\\nbiases=', b)"
      ],
      "execution_count": null,
      "outputs": [
        {
          "output_type": "stream",
          "text": [
            "\n",
            "Testing ------------\n",
            "3/3 [==============================] - 0s 2ms/step - loss: 0.1854 - mae: 0.3546\n",
            "test cost: [0.18537336587905884, 0.3546347916126251]\n",
            "Weights= [[1.2484834]\n",
            " [1.4201232]\n",
            " [1.6882144]] \n",
            "biases= [0.96951365]\n"
          ],
          "name": "stdout"
        }
      ]
    },
    {
      "cell_type": "code",
      "metadata": {
        "id": "wR3OZO4GtJTj",
        "colab_type": "code",
        "colab": {}
      },
      "source": [
        ""
      ],
      "execution_count": null,
      "outputs": []
    }
  ]
}