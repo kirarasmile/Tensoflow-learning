{
  "nbformat": 4,
  "nbformat_minor": 0,
  "metadata": {
    "colab": {
      "name": "tf_lab3.ipynb",
      "provenance": [],
      "collapsed_sections": []
    },
    "kernelspec": {
      "name": "python3",
      "display_name": "Python 3"
    }
  },
  "cells": [
    {
      "cell_type": "code",
      "metadata": {
        "id": "eL7t36Gjgx0G",
        "colab_type": "code",
        "colab": {
          "base_uri": "https://localhost:8080/",
          "height": 35
        },
        "outputId": "9f32c6e2-7ce4-4d21-82d5-155427312aed"
      },
      "source": [
        "%tensorflow_version 2.x"
      ],
      "execution_count": null,
      "outputs": [
        {
          "output_type": "stream",
          "text": [
            "TensorFlow 2.x selected.\n"
          ],
          "name": "stdout"
        }
      ]
    },
    {
      "cell_type": "code",
      "metadata": {
        "id": "O0KqBvXLg-5g",
        "colab_type": "code",
        "colab": {}
      },
      "source": [
        "import tensorflow as tf\n",
        "import numpy as np\n",
        "import matplotlib.pyplot as plt\n"
      ],
      "execution_count": null,
      "outputs": []
    },
    {
      "cell_type": "code",
      "metadata": {
        "id": "KN5FXmQGhTBb",
        "colab_type": "code",
        "colab": {
          "base_uri": "https://localhost:8080/",
          "height": 283
        },
        "outputId": "865432a7-8552-4fbd-bca4-2eb83fe86dcb"
      },
      "source": [
        "#构造线性回归数据\n",
        "x=np.random.uniform(0,10.,100)\n",
        "y_org=x*5.+3.+np.random.randn(100)*2 #增加噪声\n",
        "\n",
        "#作图查看数据分布情况\n",
        "plt.scatter(x,y_org)"
      ],
      "execution_count": null,
      "outputs": [
        {
          "output_type": "execute_result",
          "data": {
            "text/plain": [
              "<matplotlib.collections.PathCollection at 0x7f74afbe9fd0>"
            ]
          },
          "metadata": {
            "tags": []
          },
          "execution_count": 4
        },
        {
          "output_type": "display_data",
          "data": {
            "image/png": "[encoded data removed]",
            "text/plain": [
              "<Figure size 432x288 with 1 Axes>"
            ]
          },
          "metadata": {
            "tags": []
          }
        }
      ]
    },
    {
      "cell_type": "code",
      "metadata": {
        "id": "mKhOndbPhxLJ",
        "colab_type": "code",
        "colab": {}
      },
      "source": [
        "#线性函数模型\n",
        "w=tf.Variable(0.1,dtype=tf.float32)\n",
        "b=tf.Variable(0.1,dtype=tf.float32)\n",
        "\n",
        "def model(x,w,b):\n",
        "  return x*w+b"
      ],
      "execution_count": null,
      "outputs": []
    },
    {
      "cell_type": "code",
      "metadata": {
        "id": "qBteIHzpiiZE",
        "colab_type": "code",
        "colab": {
          "base_uri": "https://localhost:8080/",
          "height": 301
        },
        "outputId": "e41a4964-602b-4d8b-e34c-f5187b604b5c"
      },
      "source": [
        "#查看初始数据和模型\n",
        "plt.plot(x,y_org,'.',x,model(x,w,b),'r')"
      ],
      "execution_count": null,
      "outputs": [
        {
          "output_type": "execute_result",
          "data": {
            "text/plain": [
              "[<matplotlib.lines.Line2D at 0x7f74acee1588>,\n",
              " <matplotlib.lines.Line2D at 0x7f74acee1668>]"
            ]
          },
          "metadata": {
            "tags": []
          },
          "execution_count": 7
        },
        {
          "output_type": "display_data",
          "data": {
            "image/png": "[encoded data removed]",
            "text/plain": [
              "<Figure size 432x288 with 1 Axes>"
            ]
          },
          "metadata": {
            "tags": []
          }
        }
      ]
    },
    {
      "cell_type": "code",
      "metadata": {
        "id": "q1HHnRYplV56",
        "colab_type": "code",
        "colab": {}
      },
      "source": [
        "#损失函数\n",
        "def loss_fun(y0,y_pred):\n",
        "  # return tf.reduce_mean(tf.square(y0-y_pred))\n",
        "  return tf.reduce_mean(tf.math.abs(y0-y_pred))\n",
        "\n",
        "#训练函数\n",
        "def train(w,b,y,lr=0.01):\n",
        "  with tf.GradientTape() as t:\n",
        "    loss=loss_fun(y,model(x,w,b))\n",
        "    lr_weight,lr_bias=t.gradient(loss,[w,b])\n",
        "    w.assign_sub(lr*lr_weight)\n",
        "    b.assign_sub(lr*lr_bias)"
      ],
      "execution_count": null,
      "outputs": []
    },
    {
      "cell_type": "code",
      "metadata": {
        "id": "wfdtYAP0nQ_9",
        "colab_type": "code",
        "colab": {
          "base_uri": "https://localhost:8080/",
          "height": 1000
        },
        "outputId": "ac377916-62ca-4097-ae87-a2a19aabb366"
      },
      "source": [
        "epochs=3000\n",
        "losses=[]\n",
        "for epoch in range(epochs):\n",
        "  real_loss=loss_fun(y_org,model(x,w,b))\n",
        "  losses.append(real_loss)\n",
        "  train(w,b,y_org,lr=0.01)\n",
        "  if epoch % 50==0:\n",
        "    print(f\"Epoch count{epoch}: Loss value:{real_loss.numpy()}\")"
      ],
      "execution_count": null,
      "outputs": [
        {
          "output_type": "stream",
          "text": [
            "Epoch count0: Loss value:1.9422755241394043\n",
            "Epoch count50: Loss value:1.9318063259124756\n",
            "Epoch count100: Loss value:1.921257734298706\n",
            "Epoch count150: Loss value:1.9127119779586792\n",
            "Epoch count200: Loss value:1.9063310623168945\n",
            "Epoch count250: Loss value:1.900345802307129\n",
            "Epoch count300: Loss value:1.8959492444992065\n",
            "Epoch count350: Loss value:1.8915916681289673\n",
            "Epoch count400: Loss value:1.8871116638183594\n",
            "Epoch count450: Loss value:1.8827518224716187\n",
            "Epoch count500: Loss value:1.8783725500106812\n",
            "Epoch count550: Loss value:1.8743499517440796\n",
            "Epoch count600: Loss value:1.8714979887008667\n",
            "Epoch count650: Loss value:1.8685945272445679\n",
            "Epoch count700: Loss value:1.865760326385498\n",
            "Epoch count750: Loss value:1.862838864326477\n",
            "Epoch count800: Loss value:1.8600047826766968\n",
            "Epoch count850: Loss value:1.8571280241012573\n",
            "Epoch count900: Loss value:1.8554749488830566\n",
            "Epoch count950: Loss value:1.854245901107788\n",
            "Epoch count1000: Loss value:1.8533320426940918\n",
            "Epoch count1050: Loss value:1.8524185419082642\n",
            "Epoch count1100: Loss value:1.8515046834945679\n",
            "Epoch count1150: Loss value:1.8505908250808716\n",
            "Epoch count1200: Loss value:1.8496770858764648\n",
            "Epoch count1250: Loss value:1.8487635850906372\n",
            "Epoch count1300: Loss value:1.8479000329971313\n",
            "Epoch count1350: Loss value:1.8470367193222046\n",
            "Epoch count1400: Loss value:1.8461734056472778\n",
            "Epoch count1450: Loss value:1.8453096151351929\n",
            "Epoch count1500: Loss value:1.8444464206695557\n",
            "Epoch count1550: Loss value:1.8436977863311768\n",
            "Epoch count1600: Loss value:1.8434323072433472\n",
            "Epoch count1650: Loss value:1.8431668281555176\n",
            "Epoch count1700: Loss value:1.8429009914398193\n",
            "Epoch count1750: Loss value:1.8426355123519897\n",
            "Epoch count1800: Loss value:1.8423700332641602\n",
            "Epoch count1850: Loss value:1.8421043157577515\n",
            "Epoch count1900: Loss value:1.8418388366699219\n",
            "Epoch count1950: Loss value:1.8415733575820923\n",
            "Epoch count2000: Loss value:1.841490626335144\n",
            "Epoch count2050: Loss value:1.8414485454559326\n",
            "Epoch count2100: Loss value:1.8414589166641235\n",
            "Epoch count2150: Loss value:1.8414695262908936\n",
            "Epoch count2200: Loss value:1.8414273262023926\n",
            "Epoch count2250: Loss value:1.8414379358291626\n",
            "Epoch count2300: Loss value:1.8414483070373535\n",
            "Epoch count2350: Loss value:1.841406226158142\n",
            "Epoch count2400: Loss value:1.841416835784912\n",
            "Epoch count2450: Loss value:1.8414273262023926\n",
            "Epoch count2500: Loss value:1.8413852453231812\n",
            "Epoch count2550: Loss value:1.8413957357406616\n",
            "Epoch count2600: Loss value:1.841406226158142\n",
            "Epoch count2650: Loss value:1.8413640260696411\n",
            "Epoch count2700: Loss value:1.8413746356964111\n",
            "Epoch count2750: Loss value:1.8413772583007812\n",
            "Epoch count2800: Loss value:1.841342806816101\n",
            "Epoch count2850: Loss value:1.841353416442871\n",
            "Epoch count2900: Loss value:1.8413476943969727\n",
            "Epoch count2950: Loss value:1.8413217067718506\n"
          ],
          "name": "stdout"
        }
      ]
    },
    {
      "cell_type": "code",
      "metadata": {
        "id": "2iCPoncSqKxV",
        "colab_type": "code",
        "colab": {
          "base_uri": "https://localhost:8080/",
          "height": 301
        },
        "outputId": "bb29e371-5158-47f3-b887-9ea23bc960d7"
      },
      "source": [
        "plt.plot(x,y_org,'c.',x,model(x,w,b),'r')"
      ],
      "execution_count": null,
      "outputs": [
        {
          "output_type": "execute_result",
          "data": {
            "text/plain": [
              "[<matplotlib.lines.Line2D at 0x7f74a69f88d0>,\n",
              " <matplotlib.lines.Line2D at 0x7f74a69f89b0>]"
            ]
          },
          "metadata": {
            "tags": []
          },
          "execution_count": 13
        },
        {
          "output_type": "display_data",
          "data": {
            "image/png": "[encoded data removed]",
            "text/plain": [
              "<Figure size 432x288 with 1 Axes>"
            ]
          },
          "metadata": {
            "tags": []
          }
        }
      ]
    },
    {
      "cell_type": "code",
      "metadata": {
        "id": "p4nvYDAFrDiN",
        "colab_type": "code",
        "colab": {
          "base_uri": "https://localhost:8080/",
          "height": 305
        },
        "outputId": "05a10e22-4f62-4d26-a98d-4ebcba701daa"
      },
      "source": [
        "print(w,b)\n",
        "plt.plot(np.arange(len(losses)),losses)\n",
        "plt.xlim((-1,3000))\n",
        "plt.ylim((0,10.))"
      ],
      "execution_count": null,
      "outputs": [
        {
          "output_type": "stream",
          "text": [
            "<tf.Variable 'Variable:0' shape=() dtype=float32, numpy=5.0029755> <tf.Variable 'Variable:0' shape=() dtype=float32, numpy=3.0300188>\n"
          ],
          "name": "stdout"
        },
        {
          "output_type": "execute_result",
          "data": {
            "text/plain": [
              "(0.0, 10.0)"
            ]
          },
          "metadata": {
            "tags": []
          },
          "execution_count": 16
        },
        {
          "output_type": "display_data",
          "data": {
            "image/png": "[encoded data removed]",
            "text/plain": [
              "<Figure size 432x288 with 1 Axes>"
            ]
          },
          "metadata": {
            "tags": []
          }
        }
      ]
    }
  ]
}